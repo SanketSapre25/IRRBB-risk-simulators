{
 "cells": [
  {
   "cell_type": "code",
   "execution_count": 49,
   "id": "3326723b-63b4-455b-908e-cbe8166529ff",
   "metadata": {},
   "outputs": [],
   "source": [
    "import pandas as pd"
   ]
  },
  {
   "cell_type": "code",
   "execution_count": 51,
   "id": "77570e07-1c3d-4295-bd32-544a8184cdaa",
   "metadata": {},
   "outputs": [],
   "source": [
    "import numpy as np\n",
    "from datetime import datetime, timedelta\n",
    "from faker import Faker"
   ]
  },
  {
   "cell_type": "code",
   "execution_count": 53,
   "id": "40872f09-4873-4ed6-b795-70255ca71c02",
   "metadata": {},
   "outputs": [],
   "source": [
    "import random"
   ]
  },
  {
   "cell_type": "code",
   "execution_count": 55,
   "id": "0b1d9f95-a218-4640-a6b1-e40dfc6a79c2",
   "metadata": {},
   "outputs": [],
   "source": [
    "fake = Faker()"
   ]
  },
  {
   "cell_type": "code",
   "execution_count": 57,
   "id": "90be6317-e4db-44ea-b3e6-a0868dd4c5e3",
   "metadata": {},
   "outputs": [],
   "source": [
    "#set random seed for reproducibility"
   ]
  },
  {
   "cell_type": "code",
   "execution_count": 59,
   "id": "c383bc64-7570-47dd-81a6-9e0b38e09aef",
   "metadata": {},
   "outputs": [],
   "source": [
    "np.random.seed(42)"
   ]
  },
  {
   "cell_type": "code",
   "execution_count": 61,
   "id": "4da682e0-a7b4-44f0-9c6f-b7bddf40a44c",
   "metadata": {},
   "outputs": [],
   "source": [
    "#Define helper functions"
   ]
  },
  {
   "cell_type": "code",
   "execution_count": 63,
   "id": "226e3615-d92a-4e68-9b5b-f43b0193fe66",
   "metadata": {},
   "outputs": [],
   "source": [
    "def random_maturity():\n",
    "    return datetime.today() + timedelta(days=random.randint(180,3650)) #6 months to 10 years"
   ]
  },
  {
   "cell_type": "code",
   "execution_count": 65,
   "id": "7ad47866-5a35-4114-9ada-247522907892",
   "metadata": {},
   "outputs": [],
   "source": [
    "def random_origination():\n",
    "    return datetime.today() - timedelta(days=random.randint(30,3650)) #Past 10 years"
   ]
  },
  {
   "cell_type": "code",
   "execution_count": 67,
   "id": "25282246-34a3-4ebf-a1b9-794c72c12776",
   "metadata": {},
   "outputs": [],
   "source": [
    "instrument_types = ['Loan','Deposit','Bond','Mortgage']\n",
    "customer_types = ['Retail','SME','Corporate']\n",
    "rate_types = ['Fixed','Floating']\n",
    "repricing_freq = ['1M','3M','6M','1Y']\n",
    "payment_freq = ['Monthly','Quarterly','Annually']\n",
    "embedded_options = ['None','Callable','Prepayable']\n",
    "currencies = ['INR','USD','AUD']"
   ]
  },
  {
   "cell_type": "code",
   "execution_count": 69,
   "id": "a39c792c-9c99-4ded-8eaf-474a62530564",
   "metadata": {},
   "outputs": [],
   "source": [
    "#Generate sample data"
   ]
  },
  {
   "cell_type": "code",
   "execution_count": 71,
   "id": "d24d6d89-7641-4618-a47e-2c0d85c75ad1",
   "metadata": {},
   "outputs": [],
   "source": [
    "n = 200 #number of instruments"
   ]
  },
  {
   "cell_type": "code",
   "execution_count": 73,
   "id": "da2e1e7f-27b9-4505-9b37-4374a5d55ce8",
   "metadata": {},
   "outputs": [],
   "source": [
    "data = []"
   ]
  },
  {
   "cell_type": "code",
   "execution_count": 75,
   "id": "338157a6-1568-4e5b-b107-3999fbddfbac",
   "metadata": {},
   "outputs": [],
   "source": [
    "for i in range(n):\n",
    "    instrument = {\n",
    "        'instrument_id': f'INS{i+1:04}',\n",
    "        'instrument_type': np.random.choice(instrument_types),\n",
    "        'customer_type': np.random.choice(customer_types),\n",
    "        'notional_amount': round(np.random.uniform(100000, 10000000), 2),\n",
    "        'interest_rate_type': np.random.choice(rate_types, p=[0.6,0.4]),\n",
    "        'interest_rate': round(np.random.uniform(2.5, 9.5), 2),\n",
    "        'repricing_frequency': np.random.choice(repricing_freq),\n",
    "        'maturity_date': random_maturity().strftime('%Y-%m-%d'),\n",
    "        'origination_date': random_origination().strftime('%Y-%m-%d'),\n",
    "        'payment_frequency': np.random.choice(payment_freq),\n",
    "        'embedded_option': np.random.choice(embedded_options, p=[0.7, 0.15, 0.15]),\n",
    "        'behavioral_adjustment': round(np.random.uniform(0.0, 0.3), 2),\n",
    "        'core_deposit_flag': np.random.choice(['True','False'], p=[0.4, 0.6]),\n",
    "        'currency': np.random.choice(currencies)\n",
    "    }\n",
    "    data.append(instrument)"
   ]
  },
  {
   "cell_type": "code",
   "execution_count": 77,
   "id": "eb214ea0-71f7-4dda-ac52-aafb1cf8f094",
   "metadata": {},
   "outputs": [],
   "source": [
    "df = pd.DataFrame(data)\n",
    "df.to_csv('Banking_Book_IRRBB.csv', index=False)"
   ]
  },
  {
   "cell_type": "code",
   "execution_count": 79,
   "id": "a5bcc9cc-f5a8-4b1a-93b0-a0085be3ca0f",
   "metadata": {},
   "outputs": [
    {
     "name": "stdout",
     "output_type": "stream",
     "text": [
      "✅ Synthetic banking book dataset generated and saved as 'banking_book_irrbb.csv'.\n"
     ]
    }
   ],
   "source": [
    "print(\"✅ Synthetic banking book dataset generated and saved as 'banking_book_irrbb.csv'.\")"
   ]
  },
  {
   "cell_type": "code",
   "execution_count": null,
   "id": "afda70ce-9e62-419e-9f8b-0239a0e9a8bc",
   "metadata": {},
   "outputs": [],
   "source": []
  }
 ],
 "metadata": {
  "kernelspec": {
   "display_name": "Python 3 (ipykernel)",
   "language": "python",
   "name": "python3"
  },
  "language_info": {
   "codemirror_mode": {
    "name": "ipython",
    "version": 3
   },
   "file_extension": ".py",
   "mimetype": "text/x-python",
   "name": "python",
   "nbconvert_exporter": "python",
   "pygments_lexer": "ipython3",
   "version": "3.12.4"
  }
 },
 "nbformat": 4,
 "nbformat_minor": 5
}
